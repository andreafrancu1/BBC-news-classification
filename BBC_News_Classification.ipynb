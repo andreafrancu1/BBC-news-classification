{
 "cells": [
  {
   "cell_type": "markdown",
   "id": "6a802750",
   "metadata": {},
   "source": [
    "# BBC News Classification\n",
    "This project is a part of a Kaggle Competition: BBC News Classification (https://www.kaggle.com/c/learn-ai-bbc/overview) that uses both supervised and unsupervised methods to predict the topic of various BBC news articles. The different models are then compared and the one with the highest accuracy score is used to create a solution that will then be submitted to the Kaggle competition."
   ]
  },
  {
   "cell_type": "markdown",
   "id": "4692d56c",
   "metadata": {},
   "source": [
    "Load in the necessary libaries"
   ]
  },
  {
   "cell_type": "code",
   "execution_count": 101,
   "id": "f11f28ec",
   "metadata": {},
   "outputs": [],
   "source": [
    "import pandas as pd\n",
    "import matplotlib.pyplot as plt\n",
    "import numpy as np\n",
    "import seaborn as sns\n",
    "from sklearn.model_selection import train_test_split\n",
    "from sklearn.feature_extraction.text import TfidfVectorizer\n",
    "from sklearn.ensemble import RandomForestClassifier\n",
    "from sklearn.metrics import accuracy_score, classification_report\n",
    "from sklearn.svm import SVC\n",
    "from sklearn.naive_bayes import MultinomialNB\n",
    "from sklearn.decomposition import TruncatedSVD\n",
    "from sklearn.decomposition import NMF\n",
    "from sklearn.metrics import adjusted_rand_score\n",
    "from sklearn.metrics import confusion_matrix"
   ]
  },
  {
   "cell_type": "markdown",
   "id": "4d4c9e7d",
   "metadata": {},
   "source": [
    "_________\n",
    "## Load in Data\n",
    "Load in the csv's that came from the Kaggle page. This includes test and train data, as well as a sample solution set"
   ]
  },
  {
   "cell_type": "code",
   "execution_count": 102,
   "id": "b05c378b",
   "metadata": {},
   "outputs": [],
   "source": [
    "sample_solution = pd.read_csv('BBC_News_Sample_Solution.csv')\n",
    "test_unlabeled = pd.read_csv('BBC_News_Test.csv')\n",
    "train_full = pd.read_csv('BBC_News_Train.csv')"
   ]
  },
  {
   "cell_type": "markdown",
   "id": "3fe57314-6c64-447a-9ac9-86781a2f2cc1",
   "metadata": {},
   "source": [
    "The sample solution shows an example of the solution to be submitted. This includes a dataframe of the Category associated with each Article ID."
   ]
  },
  {
   "cell_type": "code",
   "execution_count": 103,
   "id": "f7e0479c",
   "metadata": {},
   "outputs": [
    {
     "data": {
      "text/html": [
       "<div>\n",
       "<style scoped>\n",
       "    .dataframe tbody tr th:only-of-type {\n",
       "        vertical-align: middle;\n",
       "    }\n",
       "\n",
       "    .dataframe tbody tr th {\n",
       "        vertical-align: top;\n",
       "    }\n",
       "\n",
       "    .dataframe thead th {\n",
       "        text-align: right;\n",
       "    }\n",
       "</style>\n",
       "<table border=\"1\" class=\"dataframe\">\n",
       "  <thead>\n",
       "    <tr style=\"text-align: right;\">\n",
       "      <th></th>\n",
       "      <th>ArticleId</th>\n",
       "      <th>Category</th>\n",
       "    </tr>\n",
       "  </thead>\n",
       "  <tbody>\n",
       "    <tr>\n",
       "      <th>0</th>\n",
       "      <td>1018</td>\n",
       "      <td>sport</td>\n",
       "    </tr>\n",
       "    <tr>\n",
       "      <th>1</th>\n",
       "      <td>1319</td>\n",
       "      <td>tech</td>\n",
       "    </tr>\n",
       "    <tr>\n",
       "      <th>2</th>\n",
       "      <td>1138</td>\n",
       "      <td>business</td>\n",
       "    </tr>\n",
       "    <tr>\n",
       "      <th>3</th>\n",
       "      <td>459</td>\n",
       "      <td>entertainment</td>\n",
       "    </tr>\n",
       "    <tr>\n",
       "      <th>4</th>\n",
       "      <td>1020</td>\n",
       "      <td>politics</td>\n",
       "    </tr>\n",
       "    <tr>\n",
       "      <th>...</th>\n",
       "      <td>...</td>\n",
       "      <td>...</td>\n",
       "    </tr>\n",
       "    <tr>\n",
       "      <th>730</th>\n",
       "      <td>1923</td>\n",
       "      <td>sport</td>\n",
       "    </tr>\n",
       "    <tr>\n",
       "      <th>731</th>\n",
       "      <td>373</td>\n",
       "      <td>tech</td>\n",
       "    </tr>\n",
       "    <tr>\n",
       "      <th>732</th>\n",
       "      <td>1704</td>\n",
       "      <td>business</td>\n",
       "    </tr>\n",
       "    <tr>\n",
       "      <th>733</th>\n",
       "      <td>206</td>\n",
       "      <td>entertainment</td>\n",
       "    </tr>\n",
       "    <tr>\n",
       "      <th>734</th>\n",
       "      <td>471</td>\n",
       "      <td>politics</td>\n",
       "    </tr>\n",
       "  </tbody>\n",
       "</table>\n",
       "<p>735 rows × 2 columns</p>\n",
       "</div>"
      ],
      "text/plain": [
       "     ArticleId       Category\n",
       "0         1018          sport\n",
       "1         1319           tech\n",
       "2         1138       business\n",
       "3          459  entertainment\n",
       "4         1020       politics\n",
       "..         ...            ...\n",
       "730       1923          sport\n",
       "731        373           tech\n",
       "732       1704       business\n",
       "733        206  entertainment\n",
       "734        471       politics\n",
       "\n",
       "[735 rows x 2 columns]"
      ]
     },
     "execution_count": 103,
     "metadata": {},
     "output_type": "execute_result"
    }
   ],
   "source": [
    "sample_solution"
   ]
  },
  {
   "cell_type": "markdown",
   "id": "6f53f216-4c54-4759-954e-6756f291a407",
   "metadata": {},
   "source": [
    "Look into some of the features of the training data, like number of entries, categories, and get a quick look at some of the first entries."
   ]
  },
  {
   "cell_type": "code",
   "execution_count": 105,
   "id": "0442f2ee",
   "metadata": {},
   "outputs": [
    {
     "name": "stdout",
     "output_type": "stream",
     "text": [
      "<class 'pandas.core.frame.DataFrame'>\n",
      "RangeIndex: 1490 entries, 0 to 1489\n",
      "Data columns (total 3 columns):\n",
      " #   Column     Non-Null Count  Dtype \n",
      "---  ------     --------------  ----- \n",
      " 0   ArticleId  1490 non-null   int64 \n",
      " 1   Text       1490 non-null   object\n",
      " 2   Category   1490 non-null   object\n",
      "dtypes: int64(1), object(2)\n",
      "memory usage: 35.0+ KB\n"
     ]
    }
   ],
   "source": [
    "train_full.info()"
   ]
  },
  {
   "cell_type": "code",
   "execution_count": 106,
   "id": "e5d9083b-c7e7-4a0a-a919-f8d9ba764098",
   "metadata": {
    "scrolled": true
   },
   "outputs": [
    {
     "data": {
      "text/html": [
       "<div>\n",
       "<style scoped>\n",
       "    .dataframe tbody tr th:only-of-type {\n",
       "        vertical-align: middle;\n",
       "    }\n",
       "\n",
       "    .dataframe tbody tr th {\n",
       "        vertical-align: top;\n",
       "    }\n",
       "\n",
       "    .dataframe thead th {\n",
       "        text-align: right;\n",
       "    }\n",
       "</style>\n",
       "<table border=\"1\" class=\"dataframe\">\n",
       "  <thead>\n",
       "    <tr style=\"text-align: right;\">\n",
       "      <th></th>\n",
       "      <th>ArticleId</th>\n",
       "      <th>Text</th>\n",
       "      <th>Category</th>\n",
       "    </tr>\n",
       "  </thead>\n",
       "  <tbody>\n",
       "    <tr>\n",
       "      <th>0</th>\n",
       "      <td>1833</td>\n",
       "      <td>worldcom ex-boss launches defence lawyers defe...</td>\n",
       "      <td>business</td>\n",
       "    </tr>\n",
       "    <tr>\n",
       "      <th>1</th>\n",
       "      <td>154</td>\n",
       "      <td>german business confidence slides german busin...</td>\n",
       "      <td>business</td>\n",
       "    </tr>\n",
       "    <tr>\n",
       "      <th>2</th>\n",
       "      <td>1101</td>\n",
       "      <td>bbc poll indicates economic gloom citizens in ...</td>\n",
       "      <td>business</td>\n",
       "    </tr>\n",
       "    <tr>\n",
       "      <th>3</th>\n",
       "      <td>1976</td>\n",
       "      <td>lifestyle  governs mobile choice  faster  bett...</td>\n",
       "      <td>tech</td>\n",
       "    </tr>\n",
       "    <tr>\n",
       "      <th>4</th>\n",
       "      <td>917</td>\n",
       "      <td>enron bosses in $168m payout eighteen former e...</td>\n",
       "      <td>business</td>\n",
       "    </tr>\n",
       "  </tbody>\n",
       "</table>\n",
       "</div>"
      ],
      "text/plain": [
       "   ArticleId                                               Text  Category\n",
       "0       1833  worldcom ex-boss launches defence lawyers defe...  business\n",
       "1        154  german business confidence slides german busin...  business\n",
       "2       1101  bbc poll indicates economic gloom citizens in ...  business\n",
       "3       1976  lifestyle  governs mobile choice  faster  bett...      tech\n",
       "4        917  enron bosses in $168m payout eighteen former e...  business"
      ]
     },
     "execution_count": 106,
     "metadata": {},
     "output_type": "execute_result"
    }
   ],
   "source": [
    "train_full.head()"
   ]
  },
  {
   "cell_type": "code",
   "execution_count": 107,
   "id": "1918d548-f2ae-4074-887d-7aae61bab1b0",
   "metadata": {},
   "outputs": [
    {
     "name": "stdout",
     "output_type": "stream",
     "text": [
      "<class 'pandas.core.frame.DataFrame'>\n",
      "RangeIndex: 735 entries, 0 to 734\n",
      "Data columns (total 2 columns):\n",
      " #   Column     Non-Null Count  Dtype \n",
      "---  ------     --------------  ----- \n",
      " 0   ArticleId  735 non-null    int64 \n",
      " 1   Text       735 non-null    object\n",
      "dtypes: int64(1), object(1)\n",
      "memory usage: 11.6+ KB\n"
     ]
    }
   ],
   "source": [
    "test_unlabeled.info()"
   ]
  },
  {
   "cell_type": "code",
   "execution_count": 144,
   "id": "9d82c638-2c58-4f34-a605-2a92d223db33",
   "metadata": {},
   "outputs": [
    {
     "data": {
      "text/html": [
       "<div>\n",
       "<style scoped>\n",
       "    .dataframe tbody tr th:only-of-type {\n",
       "        vertical-align: middle;\n",
       "    }\n",
       "\n",
       "    .dataframe tbody tr th {\n",
       "        vertical-align: top;\n",
       "    }\n",
       "\n",
       "    .dataframe thead th {\n",
       "        text-align: right;\n",
       "    }\n",
       "</style>\n",
       "<table border=\"1\" class=\"dataframe\">\n",
       "  <thead>\n",
       "    <tr style=\"text-align: right;\">\n",
       "      <th></th>\n",
       "      <th>ArticleId</th>\n",
       "      <th>Text</th>\n",
       "    </tr>\n",
       "  </thead>\n",
       "  <tbody>\n",
       "    <tr>\n",
       "      <th>0</th>\n",
       "      <td>1018</td>\n",
       "      <td>qpr keeper day heads for preston queens park r...</td>\n",
       "    </tr>\n",
       "    <tr>\n",
       "      <th>1</th>\n",
       "      <td>1319</td>\n",
       "      <td>software watching while you work software that...</td>\n",
       "    </tr>\n",
       "    <tr>\n",
       "      <th>2</th>\n",
       "      <td>1138</td>\n",
       "      <td>d arcy injury adds to ireland woe gordon d arc...</td>\n",
       "    </tr>\n",
       "    <tr>\n",
       "      <th>3</th>\n",
       "      <td>459</td>\n",
       "      <td>india s reliance family feud heats up the ongo...</td>\n",
       "    </tr>\n",
       "    <tr>\n",
       "      <th>4</th>\n",
       "      <td>1020</td>\n",
       "      <td>boro suffer morrison injury blow middlesbrough...</td>\n",
       "    </tr>\n",
       "  </tbody>\n",
       "</table>\n",
       "</div>"
      ],
      "text/plain": [
       "   ArticleId                                               Text\n",
       "0       1018  qpr keeper day heads for preston queens park r...\n",
       "1       1319  software watching while you work software that...\n",
       "2       1138  d arcy injury adds to ireland woe gordon d arc...\n",
       "3        459  india s reliance family feud heats up the ongo...\n",
       "4       1020  boro suffer morrison injury blow middlesbrough..."
      ]
     },
     "execution_count": 144,
     "metadata": {},
     "output_type": "execute_result"
    }
   ],
   "source": [
    "test_unlabeled.head()"
   ]
  },
  {
   "cell_type": "markdown",
   "id": "3719f47f-63ad-473d-9d6e-200402a868e0",
   "metadata": {},
   "source": [
    "Check for any duplicate data."
   ]
  },
  {
   "cell_type": "code",
   "execution_count": 109,
   "id": "4d34876c-dd3e-4998-aa68-69eaa33a061b",
   "metadata": {},
   "outputs": [
    {
     "data": {
      "text/plain": [
       "np.int64(50)"
      ]
     },
     "execution_count": 109,
     "metadata": {},
     "output_type": "execute_result"
    }
   ],
   "source": [
    "train_full.duplicated(subset=['Text']).sum()"
   ]
  },
  {
   "cell_type": "markdown",
   "id": "a5ebaa32-a693-4e32-9f04-3e493157aa44",
   "metadata": {},
   "source": [
    "Drop the duplicated data."
   ]
  },
  {
   "cell_type": "code",
   "execution_count": 110,
   "id": "8daff78a-607d-47b1-919d-75c4f09c6c95",
   "metadata": {},
   "outputs": [],
   "source": [
    "train_full = train_full.drop_duplicates(subset=['Text'])"
   ]
  },
  {
   "cell_type": "markdown",
   "id": "9f175fca-db7f-4c96-841c-dc03c9358a15",
   "metadata": {},
   "source": [
    "Check for any null values in the data."
   ]
  },
  {
   "cell_type": "code",
   "execution_count": 111,
   "id": "9b421749-0e8a-4ca7-98fa-783de183d054",
   "metadata": {},
   "outputs": [
    {
     "data": {
      "text/plain": [
       "ArticleId    0\n",
       "Text         0\n",
       "Category     0\n",
       "dtype: int64"
      ]
     },
     "execution_count": 111,
     "metadata": {},
     "output_type": "execute_result"
    }
   ],
   "source": [
    "train_full.isnull().sum()"
   ]
  },
  {
   "cell_type": "markdown",
   "id": "2348de3b-a053-41a1-9a63-a38ea226f5a2",
   "metadata": {},
   "source": [
    "Get a look at the distribution of the different categories to see if there is any class imbalance."
   ]
  },
  {
   "cell_type": "code",
   "execution_count": 112,
   "id": "db07ebbc-c1a0-4a6a-a919-772e74212649",
   "metadata": {},
   "outputs": [
    {
     "data": {
      "text/plain": [
       "Text(0.5, 1.0, 'Category Spread')"
      ]
     },
     "execution_count": 112,
     "metadata": {},
     "output_type": "execute_result"
    },
    {
     "data": {
      "image/png": "[encoded data removed]",
      "text/plain": [
       "<Figure size 640x480 with 1 Axes>"
      ]
     },
     "metadata": {},
     "output_type": "display_data"
    }
   ],
   "source": [
    "train_full['Category'].value_counts().plot(kind = 'bar', color = 'orange')\n",
    "plt.xlabel('Category')\n",
    "plt.ylabel('Count')\n",
    "plt.title('Category Spread')"
   ]
  },
  {
   "cell_type": "markdown",
   "id": "7b483a2d-cb86-4968-b265-11b079e50618",
   "metadata": {},
   "source": [
    "Sport and business have more articles attributed to those categories, but there is not a dramatic imbalance of classes.\n",
    "\n",
    "Now to split the full training data into train and validation data, to test out the models before final submission on the final test data."
   ]
  },
  {
   "cell_type": "code",
   "execution_count": 113,
   "id": "085344ee-735b-44d7-b053-7030e9e8cf4a",
   "metadata": {},
   "outputs": [],
   "source": [
    "train, val = train_test_split(\n",
    "    train_full, \n",
    "    test_size = 0.2,  # 20% for validation\n",
    "    random_state = 123,\n",
    "    stratify = train_full['Category']  # split balanced across the categories\n",
    ")"
   ]
  },
  {
   "cell_type": "markdown",
   "id": "0755bb9a-3674-456a-ae18-fdfff4e9886e",
   "metadata": {},
   "source": [
    "\n",
    "__________"
   ]
  },
  {
   "cell_type": "markdown",
   "id": "0a04a61c",
   "metadata": {},
   "source": [
    "## Data Cleaning and Organizing"
   ]
  },
  {
   "cell_type": "markdown",
   "id": "a92bb9bc-a4e2-4417-8c6e-53ea3be9d347",
   "metadata": {},
   "source": [
    "Use TF-IDF (Term Frequency - Inverse Document Frequency) to process the text data into matrix form. This method works by multiplying a term's **term frequency** with it's **inverse document frequency**. The **term frequency (TF)** is calculated by taking the number of times a term appears in a document and dividing that by the total number of terms in the document:\n",
    "\n",
    "$$ TF = \\frac{\\text{number of times term appears in document}}{\\text{number of terms in document}} $$\n",
    "\n",
    "The **inverse document frequency (IDF)** is found by taking the log of the total number of documents, divided by the number of documents containing the term:\n",
    "\n",
    "$$ IDF = \\log{\\frac{\\text{number of documentst}}{\\text{number of documents containing the term}}}$$\n",
    "\n",
    "The TF-IDF is just these two terms multiplied together:\n",
    "\n",
    "$$ \\text{TF-IDF} = TF * IDF $$\n",
    "\n",
    "This is a popular approach to word embedding because it looks at word frequency while also taking into consideration the fact that some words are just very common in many documents (i.e. the, and, a) and gives those words less weight than the ones that really define what a text is about.\n",
    "\n",
    "This is a **bag of words** approach because it considers frequency of words, but not the order they are used in.\n",
    "\n",
    "Sklearn has a class called TfidfVectorizer, which converts text data into matrix form using this method."
   ]
  },
  {
   "cell_type": "code",
   "execution_count": 114,
   "id": "58818fb0",
   "metadata": {},
   "outputs": [],
   "source": [
    "vectorizer = TfidfVectorizer(min_df = 50, max_df = 0.9, ngram_range = (1, 2), stop_words = 'english')"
   ]
  },
  {
   "cell_type": "markdown",
   "id": "2cd54a80-3741-4905-968c-a2f8a2ced6c6",
   "metadata": {},
   "source": [
    "**min_df** = minimum number of documents a word needs to appear in to be included \\\n",
    "**max_df** = maximum percent of documents that a term can appear in to be included \\\n",
    "**ngram_range** = include terms that are made of 1 or 2 words (i.e. bank account) \\\n",
    "**stop_words** = language of stop words, removes common words like and, the, is, etc."
   ]
  },
  {
   "cell_type": "code",
   "execution_count": 115,
   "id": "f2b8f3ac-2f71-4fd9-b685-3fe4841afbc9",
   "metadata": {},
   "outputs": [],
   "source": [
    "X_train = vectorizer.fit_transform(train['Text'])\n",
    "X_val = vectorizer.transform(val['Text'])\n",
    "X_test = vectorizer.transform(test_unlabeled['Text'])\n",
    "X_train_full = vectorizer.fit_transform(train_full['Text'])\n",
    "\n",
    "y_train = train['Category']\n",
    "y_val = val['Category']\n",
    "y_train_full = train_full['Category']\n",
    "\n",
    "features = vectorizer.get_feature_names_out()"
   ]
  },
  {
   "cell_type": "markdown",
   "id": "595b729a-fff6-4bdf-b830-e353500a9c95",
   "metadata": {},
   "source": [
    "_______\n",
    "## Modeling\n",
    "Time to try out a few different models and see which one works best with this data. First try unsupervised methods, and can later try supervised.\n",
    "### Unsupervised Learning - Matrix Factorization\n",
    "#### Non-Negative Matrix Factorization (NMF)\n",
    "Use Non-Negative Matrix Factorization on the data to break down the TF-IDF matrix into 2 matrices: W (basis matrix) and H (coefficient matrix), both with non-negative entries. This is applicable to this data since the TF-IDF matrix is non-negative. NMF can utilize different solvers and loss functions. The loss functions Kullback-Leibler or Itakura-Saito are sensitive to 0 values in the data, which this data does have, so these will be skipped. "
   ]
  },
  {
   "cell_type": "code",
   "execution_count": 116,
   "id": "394f4f03-d1c3-4504-9bd9-7f2ccc8ac34c",
   "metadata": {},
   "outputs": [
    {
     "name": "stdout",
     "output_type": "stream",
     "text": [
      "Topic 1: said, growth, year, market, sales, firm, company, economy, bank, shares\n",
      "Topic 2: mr, labour, blair, election, party, said, brown, government, mr blair, minister\n",
      "Topic 3: game, england, win, cup, said, players, play, wales, team, match\n",
      "Topic 4: film, best, awards, actor, award, films, oscar, director, star, won\n",
      "Topic 5: people, mobile, said, music, technology, phone, users, software, net, use\n"
     ]
    }
   ],
   "source": [
    "# Coordinate Descent\n",
    "nmf_cd = NMF(n_components = 5, random_state = 123, solver = 'cd', beta_loss = 'frobenius')\n",
    "W_cd = nmf_cd.fit_transform(X_train_full) # basis matrix\n",
    "H_cd = nmf_cd.components_ # coefficient matrix\n",
    "top_topics_cd = W_cd.argmax(axis = 1)\n",
    "\n",
    "for topic_idx, topic in enumerate(H_cd):\n",
    "    top_word_idx = topic.argsort()[:-10-1:-1]\n",
    "    top_words = [features[i] for i in top_word_idx]\n",
    "    print(f\"Topic {topic_idx + 1}: {', '.join(top_words)}\")"
   ]
  },
  {
   "cell_type": "markdown",
   "id": "e320c157-7b56-4468-9b82-eb10b4592a4b",
   "metadata": {},
   "source": [
    "The top terms for each topic, shown above, can be used to then map the assigned topics to the actual topics."
   ]
  },
  {
   "cell_type": "code",
   "execution_count": 117,
   "id": "3c23b49e-266d-4878-954a-95da5ee6cf1f",
   "metadata": {},
   "outputs": [],
   "source": [
    "topic_mapping = {\n",
    "    0: 'business',\n",
    "    1: 'politics',\n",
    "    2: 'sport',\n",
    "    3: 'entertainment',\n",
    "    4: 'tech'\n",
    "}\n",
    "\n",
    "categories_cd = [topic_mapping[topic] for topic in top_topics_cd]"
   ]
  },
  {
   "cell_type": "code",
   "execution_count": 124,
   "id": "16f2f6f3-7e86-453e-9c8a-b7615bbbd715",
   "metadata": {},
   "outputs": [
    {
     "name": "stdout",
     "output_type": "stream",
     "text": [
      "               precision    recall  f1-score   support\n",
      "\n",
      "     business       0.96      0.86      0.91       335\n",
      "entertainment       0.96      0.63      0.76       263\n",
      "     politics       0.87      0.88      0.87       266\n",
      "        sport       0.94      0.98      0.96       342\n",
      "         tech       0.66      0.96      0.78       234\n",
      "\n",
      "     accuracy                           0.87      1440\n",
      "    macro avg       0.88      0.86      0.86      1440\n",
      " weighted avg       0.89      0.87      0.87      1440\n",
      "\n"
     ]
    }
   ],
   "source": [
    "print(classification_report(y_train_full, categories_cd))"
   ]
  },
  {
   "cell_type": "markdown",
   "id": "9d339717-86ad-4b15-8a86-64e0daf20d10",
   "metadata": {},
   "source": [
    "This model, with **Coordinate Descent** as the solver and **Frobenius** as the loss function, gives an accuracy score of 0.87. The same process can be done using the **Multiplicative Update** solver, to see if this outputs a better result."
   ]
  },
  {
   "cell_type": "code",
   "execution_count": 125,
   "id": "2bd0d2ab-5dad-46f3-b958-d451fe0455f0",
   "metadata": {},
   "outputs": [
    {
     "name": "stdout",
     "output_type": "stream",
     "text": [
      "Topic 1: said, year, growth, firm, market, company, sales, economy, 2004, bank\n",
      "Topic 2: mr, labour, blair, election, party, said, brown, government, mr blair, minister\n",
      "Topic 3: game, england, win, cup, said, players, play, wales, team, match\n",
      "Topic 4: film, best, awards, actor, award, films, oscar, director, star, won\n",
      "Topic 5: people, mobile, said, music, technology, phone, users, software, net, use\n"
     ]
    }
   ],
   "source": [
    "# Multiplicative Update\n",
    "nmf_mu = NMF(n_components = 5, random_state = 123, solver = 'mu', beta_loss = 'frobenius')\n",
    "W_mu = nmf_mu.fit_transform(X_train_full) # basis matrix\n",
    "H_mu = nmf_mu.components_ # coefficient matrix\n",
    "top_topics_mu = W_mu.argmax(axis = 1)\n",
    "\n",
    "for topic_idx, topic in enumerate(H_mu):\n",
    "    top_word_idx = topic.argsort()[:-10-1:-1]\n",
    "    top_words = [features[i] for i in top_word_idx]\n",
    "    print(f\"Topic {topic_idx + 1}: {', '.join(top_words)}\")"
   ]
  },
  {
   "cell_type": "markdown",
   "id": "5cbe9092-3b73-49d4-a50c-7ec9e8ac4f09",
   "metadata": {},
   "source": [
    "It looks like the **Multiplicative Update** model mapped similar words to the same topics, so the same mapping can be used."
   ]
  },
  {
   "cell_type": "code",
   "execution_count": 126,
   "id": "52acd9b1-1495-4e62-a0e5-d04df9a073be",
   "metadata": {},
   "outputs": [
    {
     "name": "stdout",
     "output_type": "stream",
     "text": [
      "               precision    recall  f1-score   support\n",
      "\n",
      "     business       0.87      0.91      0.89       335\n",
      "entertainment       0.96      0.67      0.79       263\n",
      "     politics       0.90      0.84      0.87       266\n",
      "        sport       0.93      0.99      0.96       342\n",
      "         tech       0.74      0.94      0.83       234\n",
      "\n",
      "     accuracy                           0.88      1440\n",
      "    macro avg       0.88      0.87      0.87      1440\n",
      " weighted avg       0.89      0.88      0.87      1440\n",
      "\n"
     ]
    }
   ],
   "source": [
    "categories_mu = [topic_mapping[topic] for topic in top_topics_mu]\n",
    "\n",
    "print(classification_report(y_train_full, categories_mu))"
   ]
  },
  {
   "cell_type": "markdown",
   "id": "943f0710-60fc-4f00-9e00-df50fb8252a3",
   "metadata": {},
   "source": [
    "The NMF model using **Multiplicative Update** as the solver and **Frobenius** as the loss function gives a slightly higher accuracy, of 0.88. \n",
    "\n",
    "This data can now be used to create a **confusion matrix** to visualize which categories are being predicted correctly or not."
   ]
  },
  {
   "cell_type": "code",
   "execution_count": 138,
   "id": "3eda996a-cc6e-4094-948c-d38f093f61a1",
   "metadata": {},
   "outputs": [
    {
     "data": {
      "text/plain": [
       "Text(50.72222222222221, 0.5, 'True Categories')"
      ]
     },
     "execution_count": 138,
     "metadata": {},
     "output_type": "execute_result"
    },
    {
     "data": {
      "image/png": "[encoded data removed]",
      "text/plain": [
       "<Figure size 640x480 with 2 Axes>"
      ]
     },
     "metadata": {},
     "output_type": "display_data"
    }
   ],
   "source": [
    "cm = confusion_matrix(y_train_full, categories_mu)\n",
    "plt.figure()\n",
    "sns.heatmap(cm, annot = True, fmt = 'g', cmap = 'Purples', xticklabels = topic_mapping.values(), yticklabels = topic_mapping.values())\n",
    "plt.title('Confusion Matrix: NMF, MU & Frobenius')\n",
    "plt.xlabel('Predicted Categories')\n",
    "plt.ylabel('True Categories')"
   ]
  },
  {
   "cell_type": "markdown",
   "id": "677ff91d-ec25-42f2-acef-619082f8e6e4",
   "metadata": {},
   "source": [
    "The confusion matrix shows that there are some categories that the model predicted well, and others that it did not predict as well. For example, articles not about politics where rarely cast as political articles, however, many political articles were mislabeled as other categories. This might be happening because words associated with politics may often show up in other articles. An opposite example of this is entertainment. Entertainment articles were rarely mislabeled, but other articles, specifically politics, were sometimes mislabeled as entertainment. This is likely because many articles include vocabulary that could be interpreted as part of multiple labels, and some articles are hard to put into a  single category, even by humans."
   ]
  },
  {
   "cell_type": "markdown",
   "id": "3c28c008-5a44-4874-ad98-38eaf287a9d6",
   "metadata": {},
   "source": [
    "_______\n",
    "### Supervised Learning\n",
    "This section predicts article labels with the use of **supervised learning**, but making use of the labels that come with the training data. This requires using the train and validation subsets of the train_full data."
   ]
  },
  {
   "cell_type": "markdown",
   "id": "1914b942-c47e-4cd8-8d46-7bf30ea47f97",
   "metadata": {},
   "source": [
    "### Multinomial Naive Bayes (MNM)\n",
    "This model is often useful when trying to classify text, with features representinve term frequencies in a document."
   ]
  },
  {
   "cell_type": "code",
   "execution_count": 129,
   "id": "aec0feed-7f4d-4c17-8b0c-5bdea83146bc",
   "metadata": {},
   "outputs": [
    {
     "name": "stdout",
     "output_type": "stream",
     "text": [
      "               precision    recall  f1-score   support\n",
      "\n",
      "     business       0.98      0.91      0.95        67\n",
      "entertainment       1.00      0.92      0.96        53\n",
      "     politics       0.94      0.96      0.95        53\n",
      "        sport       0.94      1.00      0.97        68\n",
      "         tech       0.84      0.91      0.88        47\n",
      "\n",
      "     accuracy                           0.94       288\n",
      "    macro avg       0.94      0.94      0.94       288\n",
      " weighted avg       0.95      0.94      0.94       288\n",
      "\n"
     ]
    }
   ],
   "source": [
    "MNM = MultinomialNB()\n",
    "MNM.fit(X_train, y_train)\n",
    "\n",
    "print(classification_report(y_val, MNM.predict(X_val)))"
   ]
  },
  {
   "cell_type": "markdown",
   "id": "141a7ecc-80c9-40d0-9b71-2c9be7563b26",
   "metadata": {},
   "source": [
    "### Random Forest Classifier (RFC)\n",
    "This method puts together multiple decision trees and does a good job of reducing overfitting."
   ]
  },
  {
   "cell_type": "code",
   "execution_count": 130,
   "id": "8962d419",
   "metadata": {},
   "outputs": [
    {
     "name": "stdout",
     "output_type": "stream",
     "text": [
      "               precision    recall  f1-score   support\n",
      "\n",
      "     business       0.90      0.93      0.91        67\n",
      "entertainment       0.89      0.96      0.93        53\n",
      "     politics       0.96      0.89      0.92        53\n",
      "        sport       0.92      0.99      0.95        68\n",
      "         tech       0.90      0.77      0.83        47\n",
      "\n",
      "     accuracy                           0.91       288\n",
      "    macro avg       0.91      0.91      0.91       288\n",
      " weighted avg       0.91      0.91      0.91       288\n",
      "\n"
     ]
    }
   ],
   "source": [
    "RFC = RandomForestClassifier(n_estimators = 50, random_state = 123)\n",
    "RFC.fit(X_train, y_train)\n",
    "\n",
    "print(classification_report(y_val, RFC.predict(X_val)))"
   ]
  },
  {
   "cell_type": "markdown",
   "id": "46223cdd-90f1-481f-b070-efce8de1d9b9",
   "metadata": {},
   "source": [
    "### Support Vector Machine (SVM)\n",
    "SVM attempts to find the best hyperplane to separate classes with high dimensions."
   ]
  },
  {
   "cell_type": "code",
   "execution_count": 133,
   "id": "46007766-aa6a-472e-9410-43f69b657a3d",
   "metadata": {},
   "outputs": [
    {
     "name": "stdout",
     "output_type": "stream",
     "text": [
      "               precision    recall  f1-score   support\n",
      "\n",
      "     business       0.96      0.96      0.96        67\n",
      "entertainment       0.98      0.96      0.97        53\n",
      "     politics       0.98      0.91      0.94        53\n",
      "        sport       0.96      1.00      0.98        68\n",
      "         tech       0.92      0.96      0.94        47\n",
      "\n",
      "     accuracy                           0.96       288\n",
      "    macro avg       0.96      0.96      0.96       288\n",
      " weighted avg       0.96      0.96      0.96       288\n",
      "\n"
     ]
    }
   ],
   "source": [
    "SVM = SVC(kernel = 'linear')\n",
    "SVM.fit(X_train, y_train)\n",
    "\n",
    "print(classification_report(y_val, SVM.predict(X_val)))"
   ]
  },
  {
   "cell_type": "code",
   "execution_count": 137,
   "id": "64d1726f-0268-4769-9e3d-433a8e7be0bc",
   "metadata": {},
   "outputs": [
    {
     "data": {
      "text/plain": [
       "Text(50.722222222222214, 0.5, 'True Categories')"
      ]
     },
     "execution_count": 137,
     "metadata": {},
     "output_type": "execute_result"
    },
    {
     "data": {
      "image/png": "[encoded data removed]",
      "text/plain": [
       "<Figure size 640x480 with 2 Axes>"
      ]
     },
     "metadata": {},
     "output_type": "display_data"
    }
   ],
   "source": [
    "cm = confusion_matrix(y_val, SVM.predict(X_val))\n",
    "plt.figure()\n",
    "sns.heatmap(cm, annot = True, fmt = 'g', cmap = 'Greens')\n",
    "plt.title('Confusion Matrix: SVM')\n",
    "plt.xlabel('Predicted Categories')\n",
    "plt.ylabel('True Categories')"
   ]
  },
  {
   "cell_type": "markdown",
   "id": "9799f6f3-be55-45d6-ad23-8b08f58906b2",
   "metadata": {},
   "source": [
    "________\n",
    "## Model Evaluation\n",
    "\n",
    "The Kaggle competition looks at **accuracy** so this is the value to focus on when comparing models.\n",
    "\n",
    "| Model                      | Supervised/Unsupervised | Accuracy (%) |\n",
    "|----------------------------|-------------------------|--------------|\n",
    "| **NMF with CB, Frobenius** |       Unsupervised      |      87      |\n",
    "| **NMF with MU, Frobenius** |       Unsupervised      |      88      |\n",
    "| **MNM**  |       Supervised      |      94     |\n",
    "| **RFC**  |       Supervised      |      91      |\n",
    "| **SVM, Linear Kernel**  |       Supervised      |      96      |\n",
    "\n",
    "\n",
    "From the models trained, the supervised models seemed to do better than the unsupervised models, likely because of the subjectivity of classifying some articles that may fit into multiple categories, which is improved by including labels. Between the supervised methods, **Support Vector Machine** gave the highest accuracy score of 96%. This is understandable as this model is particularly good at dealing with data with high dimensions, which text classification often has.\n",
    "\n",
    "Now that the model with the highest accuracy is chosen, SVM can be used to create a solution that will be submitted to the Kaggle competition, following the format of sample_solution."
   ]
  },
  {
   "cell_type": "code",
   "execution_count": 152,
   "id": "86a61ee4-5ecd-4dff-96f9-183a687282a1",
   "metadata": {},
   "outputs": [
    {
     "data": {
      "text/html": [
       "<div>\n",
       "<style scoped>\n",
       "    .dataframe tbody tr th:only-of-type {\n",
       "        vertical-align: middle;\n",
       "    }\n",
       "\n",
       "    .dataframe tbody tr th {\n",
       "        vertical-align: top;\n",
       "    }\n",
       "\n",
       "    .dataframe thead th {\n",
       "        text-align: right;\n",
       "    }\n",
       "</style>\n",
       "<table border=\"1\" class=\"dataframe\">\n",
       "  <thead>\n",
       "    <tr style=\"text-align: right;\">\n",
       "      <th></th>\n",
       "      <th>ArticleId</th>\n",
       "      <th>Category</th>\n",
       "    </tr>\n",
       "  </thead>\n",
       "  <tbody>\n",
       "    <tr>\n",
       "      <th>0</th>\n",
       "      <td>1018</td>\n",
       "      <td>sport</td>\n",
       "    </tr>\n",
       "    <tr>\n",
       "      <th>1</th>\n",
       "      <td>1319</td>\n",
       "      <td>tech</td>\n",
       "    </tr>\n",
       "    <tr>\n",
       "      <th>2</th>\n",
       "      <td>1138</td>\n",
       "      <td>sport</td>\n",
       "    </tr>\n",
       "    <tr>\n",
       "      <th>3</th>\n",
       "      <td>459</td>\n",
       "      <td>business</td>\n",
       "    </tr>\n",
       "    <tr>\n",
       "      <th>4</th>\n",
       "      <td>1020</td>\n",
       "      <td>sport</td>\n",
       "    </tr>\n",
       "    <tr>\n",
       "      <th>...</th>\n",
       "      <td>...</td>\n",
       "      <td>...</td>\n",
       "    </tr>\n",
       "    <tr>\n",
       "      <th>730</th>\n",
       "      <td>1923</td>\n",
       "      <td>business</td>\n",
       "    </tr>\n",
       "    <tr>\n",
       "      <th>731</th>\n",
       "      <td>373</td>\n",
       "      <td>entertainment</td>\n",
       "    </tr>\n",
       "    <tr>\n",
       "      <th>732</th>\n",
       "      <td>1704</td>\n",
       "      <td>politics</td>\n",
       "    </tr>\n",
       "    <tr>\n",
       "      <th>733</th>\n",
       "      <td>206</td>\n",
       "      <td>business</td>\n",
       "    </tr>\n",
       "    <tr>\n",
       "      <th>734</th>\n",
       "      <td>471</td>\n",
       "      <td>politics</td>\n",
       "    </tr>\n",
       "  </tbody>\n",
       "</table>\n",
       "<p>735 rows × 2 columns</p>\n",
       "</div>"
      ],
      "text/plain": [
       "     ArticleId       Category\n",
       "0         1018          sport\n",
       "1         1319           tech\n",
       "2         1138          sport\n",
       "3          459       business\n",
       "4         1020          sport\n",
       "..         ...            ...\n",
       "730       1923       business\n",
       "731        373  entertainment\n",
       "732       1704       politics\n",
       "733        206       business\n",
       "734        471       politics\n",
       "\n",
       "[735 rows x 2 columns]"
      ]
     },
     "execution_count": 152,
     "metadata": {},
     "output_type": "execute_result"
    }
   ],
   "source": [
    "solution = pd.DataFrame()\n",
    "test_unlabeled.head()\n",
    "\n",
    "categories = SVM.predict(X_test)\n",
    "solution['ArticleId'] = test_unlabeled['ArticleId']\n",
    "solution['Category'] = categories\n",
    "\n",
    "solution"
   ]
  },
  {
   "cell_type": "code",
   "execution_count": 153,
   "id": "ab2a764a-97aa-4ebf-a55e-b5469283cdd9",
   "metadata": {},
   "outputs": [],
   "source": [
    "solution.to_csv('solution.csv', index = False)"
   ]
  },
  {
   "cell_type": "markdown",
   "id": "f8a5fb99",
   "metadata": {},
   "source": [
    "_______\n",
    "## References\n",
    "Problem-solving with ML: automatic document classification - Google Cloud\n",
    "\n",
    "https://cloud.google.com/blog/products/ai-machine-learning/problem-solving-with-ml-automatic-document-classification\n",
    "\n",
    "TF-IDF — Term Frequency-Inverse Document Frequency\n",
    "\n",
    "https://www.learndatasci.com/glossary/tf-idf-term-frequency-inverse-document-frequency/\n",
    "\n",
    "Sklearn feature_extraction - Tf–idf term weighting\n",
    "\n",
    "https://scikit-learn.org/stable/modules/feature_extraction.html#tfidf-term-weighting\n",
    "\n"
   ]
  },
  {
   "cell_type": "code",
   "execution_count": null,
   "id": "a53492a1-211b-4538-aa2a-be54af1cee6f",
   "metadata": {},
   "outputs": [],
   "source": []
  }
 ],
 "metadata": {
  "kernelspec": {
   "display_name": "Python 3 (ipykernel)",
   "language": "python",
   "name": "python3"
  },
  "language_info": {
   "codemirror_mode": {
    "name": "ipython",
    "version": 3
   },
   "file_extension": ".py",
   "mimetype": "text/x-python",
   "name": "python",
   "nbconvert_exporter": "python",
   "pygments_lexer": "ipython3",
   "version": "3.9.6"
  }
 },
 "nbformat": 4,
 "nbformat_minor": 5
}
